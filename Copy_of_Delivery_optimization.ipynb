{
  "nbformat": 4,
  "nbformat_minor": 0,
  "metadata": {
    "colab": {
      "name": "Copy of Delivery_optimization.ipynb",
      "provenance": [],
      "collapsed_sections": []
    },
    "kernelspec": {
      "name": "python3",
      "display_name": "Python 3"
    },
    "language_info": {
      "name": "python"
    }
  },
  "cells": [
    {
      "cell_type": "markdown",
      "source": [
        "# E-Commerce Last Mile Delivery Optimization using Google OR-Tools\n",
        "\n",
        "### Problem Statement\n",
        "You are a manager in a local service centre with,\n",
        "\n",
        "\n",
        "*  4 drivers in your team\n",
        "*  15 parcel capacity per vehicle\n",
        "*   16 destinations to cover in the neighbourhood named Dj with j in (1, 16)\n",
        "D0 is the centre\n",
        "*  1 route per driver\n",
        "\n",
        "### Distance Matrix\n",
        "\n",
        "To build your model, you need to provide a distance matrix M as inputs defined by,\n",
        "\n",
        "*  M(i, j) with i, j in [0, 16]\n",
        "*   M(i, j) = distance between Di and Dj\n",
        "\n",
        "This distance matrix will be loaded from an Excel file.\n",
        "\n",
        "###Demand: number of parcels to deliver to each location\n",
        "We will use here a python list with the first value at zero (because you don’t deliver anything in the centre). \n",
        "\n",
        "*   Demand = [0, 1, 1, 2, 4, 2, 4, 8, 8, 1, 2, 1, 2, 4, 4, 8, 8]\n",
        "\n",
        "\n",
        "###Objective\n",
        "* Deliver all parcels with a minimum number of drivers\n",
        "* Optimize the routing to minimize the distance covered per route\n",
        "\n",
        "\n",
        "\n",
        "\n"
      ],
      "metadata": {
        "id": "ZbBOcAAyLggq"
      }
    },
    {
      "cell_type": "code",
      "source": [
        "from ortools.constraint_solver import routing_enums_pb2\n",
        "from ortools.constraint_solver import pywrapcp\n",
        "import pandas as pd\n",
        "import numpy as np"
      ],
      "metadata": {
        "id": "cwJv7aaWKQlr"
      },
      "execution_count": null,
      "outputs": []
    },
    {
      "cell_type": "code",
      "source": [
        "# Import Distance Matrix \n",
        "df_distance = pd.read_excel('df_distance_matrix.xlsx', index_col=0)\n",
        "\n",
        "# Transform to Numpy Array\n",
        "distance_matrix = df_distance.to_numpy()"
      ],
      "metadata": {
        "id": "3FPrUyyNKTi1"
      },
      "execution_count": null,
      "outputs": []
    },
    {
      "cell_type": "code",
      "source": [
        "# Create dictionnary with data\n",
        "data = {}\n",
        "data['distance_matrix'] = distance_matrix\n",
        "print(\"{:,} destinations\".format(len(data['distance_matrix'][0]) - 1))\n",
        "\n",
        "# Orders quantity (Boxes)\n",
        "data['demands'] = [0, 1, 1, 2, 4, 2, 4, 8, 8, 1, 2, 1, 2, 4, 4, 8, 8]\n",
        "# Vehicles Capacities (Boxes)\n",
        "data['vehicle_capacities'] = [15, 15, 15, 15]\n",
        "# Fleet informations\n",
        "# Number of vehicles\n",
        "data['num_vehicles'] = 4\n",
        "# Location of the depot\n",
        "data['depot'] = 0"
      ],
      "metadata": {
        "colab": {
          "base_uri": "https://localhost:8080/"
        },
        "id": "ACkj1sIEKsyZ",
        "outputId": "a03d4892-ec28-4e2e-f007-35cca5883258"
      },
      "execution_count": null,
      "outputs": [
        {
          "output_type": "stream",
          "name": "stdout",
          "text": [
            "16 destinations\n"
          ]
        }
      ]
    },
    {
      "cell_type": "code",
      "source": [
        "# Create Dataframe of Matrix Distance\n",
        "def create_excel(data):\n",
        "    n_col = len(data['distance_matrix'][0])\n",
        "    n_row = len(data['distance_matrix'])\n",
        "    list_row = ['row' + str(i) for i in range(n_row)]\n",
        "    list_col = ['col' + str(i) for i in range(n_row)]\n",
        "\n",
        "    matrix = np.array(data['distance_matrix'])\n",
        "    df = pd.DataFrame(data=matrix, index=list_row, columns=list_col)\n",
        "    df.to_excel('df_distance_matrix.xlsx')"
      ],
      "metadata": {
        "id": "8-Wo27BGKykX"
      },
      "execution_count": null,
      "outputs": []
    },
    {
      "cell_type": "code",
      "source": [
        "# Orders quantity (Boxes)\n",
        "data['demands'] = [0, 1, 1, 2, 4, 2, 4, 8, 8, 1, 2, 1, 2, 4, 4, 8, 8]\n",
        "# Vehicles Capacities (Boxes)\n",
        "data['vehicle_capacities'] = [15, 15, 15, 15]\n",
        "# Fleet informations\n",
        "# Number of vehicles\n",
        "data['num_vehicles'] = 4\n",
        "# Location of the depot\n",
        "data['depot'] = 0"
      ],
      "metadata": {
        "id": "j_0b3vafK1Wd"
      },
      "execution_count": null,
      "outputs": []
    },
    {
      "cell_type": "code",
      "source": [
        "def distance_callback(from_index, to_index):\n",
        "    \"\"\"Returns the distance between the two nodes.\"\"\"\n",
        "    # Convert from routing variable Index to distance matrix NodeIndex.\n",
        "    from_node = manager.IndexToNode(from_index)\n",
        "    to_node = manager.IndexToNode(to_index)\n",
        "    return data['distance_matrix'][from_node][to_node]\n",
        "\n"
      ],
      "metadata": {
        "id": "pCmb4TJAK5yO"
      },
      "execution_count": null,
      "outputs": []
    },
    {
      "cell_type": "code",
      "source": [
        "def demand_callback(from_index):\n",
        "    \"\"\"Returns the demand of the node.\"\"\"\n",
        "    # Convert from routing variable Index to demands NodeIndex.\n",
        "    from_node = manager.IndexToNode(from_index)\n",
        "    return data['demands'][from_node]"
      ],
      "metadata": {
        "id": "91dNtDm5LDAj"
      },
      "execution_count": null,
      "outputs": []
    },
    {
      "cell_type": "code",
      "source": [
        "# Create the routing index manager.\n",
        "manager = pywrapcp.RoutingIndexManager(len(data['distance_matrix']),\n",
        "                                       data['num_vehicles'], data['depot'])\n",
        "\n",
        "# Create Routing Model\n",
        "routing = pywrapcp.RoutingModel(manager)\n",
        "\n",
        "# Create and register a transit callback.\n",
        "transit_callback_index = routing.RegisterTransitCallback(distance_callback)\n",
        "\n",
        "# Define cost of each arc.\n",
        "routing.SetArcCostEvaluatorOfAllVehicles(transit_callback_index)\n",
        "\n",
        "# Add Capacity constraint.\n",
        "demand_callback_index = routing.RegisterUnaryTransitCallback(\n",
        "    demand_callback)\n",
        "routing.AddDimensionWithVehicleCapacity(demand_callback_index,\n",
        "    0,  # null capacity slack\n",
        "    data['vehicle_capacities'],  # vehicle maximum capacities\n",
        "    True,  # start cumul to zero\n",
        "    'Capacity')\n",
        "\n",
        "# Setting first solution heuristic.\n",
        "search_parameters = pywrapcp.DefaultRoutingSearchParameters()\n",
        "search_parameters.first_solution_strategy = (\n",
        "    routing_enums_pb2.FirstSolutionStrategy.PATH_CHEAPEST_ARC)\n",
        "search_parameters.local_search_metaheuristic = (\n",
        "    routing_enums_pb2.LocalSearchMetaheuristic.GUIDED_LOCAL_SEARCH)\n",
        "search_parameters.time_limit.FromSeconds(1)\n"
      ],
      "metadata": {
        "id": "uqC_4p8ALGfk"
      },
      "execution_count": null,
      "outputs": []
    },
    {
      "cell_type": "code",
      "source": [
        "# Solve the problem.\n",
        "solution = routing.SolveWithParameters(search_parameters)"
      ],
      "metadata": {
        "id": "oOV9uqqkLLxp"
      },
      "execution_count": null,
      "outputs": []
    },
    {
      "cell_type": "code",
      "source": [
        "if solution:\n",
        "    total_distance = 0\n",
        "    total_load = 0\n",
        "    for vehicle_id in range(data['num_vehicles']):\n",
        "        index = routing.Start(vehicle_id)\n",
        "        plan_output = 'Route for driver {}:\\n'.format(vehicle_id)\n",
        "        route_distance = 0\n",
        "        route_load = 0\n",
        "        while not routing.IsEnd(index):\n",
        "            node_index = manager.IndexToNode(index)\n",
        "            route_load += data['demands'][node_index]\n",
        "            plan_output += ' {0} Parcels({1}) -> '.format(node_index, route_load)\n",
        "            previous_index = index\n",
        "            index = solution.Value(routing.NextVar(index))\n",
        "            route_distance += routing.GetArcCostForVehicle(\n",
        "                previous_index, index, vehicle_id)\n",
        "        plan_output += ' {0} Parcels({1})\\n'.format(manager.IndexToNode(index),\n",
        "                                                 route_load)\n",
        "        plan_output += 'Distance of the route: {} (m)\\n'.format(route_distance)\n",
        "        plan_output += 'Parcels Delivered: {} (parcels)\\n'.format(route_load)\n",
        "        print(plan_output)\n",
        "        total_distance += route_distance\n",
        "        total_load += route_load\n",
        "    print('Total distance of all routes: {:,} (m)'.format(total_distance))\n",
        "    print('Parcels Delivered: {:,}/{:,}'.format(total_load, sum(data['demands'])))\n",
        "else:\n",
        "    print('No Solution')"
      ],
      "metadata": {
        "colab": {
          "base_uri": "https://localhost:8080/"
        },
        "id": "gCBFyf8cLO5_",
        "outputId": "a6ad6969-2625-4ca2-fb5b-b04ff6e7f859"
      },
      "execution_count": null,
      "outputs": [
        {
          "output_type": "stream",
          "name": "stdout",
          "text": [
            "Route for driver 0:\n",
            " 0 Parcels(0) ->  4 Parcels(4) ->  3 Parcels(6) ->  1 Parcels(7) ->  7 Parcels(15) ->  0 Parcels(15)\n",
            "Distance of the route: 1552 (m)\n",
            "Parcels Delivered: 15 (parcels)\n",
            "\n",
            "Route for driver 1:\n",
            " 0 Parcels(0) ->  14 Parcels(4) ->  16 Parcels(12) ->  10 Parcels(14) ->  9 Parcels(15) ->  0 Parcels(15)\n",
            "Distance of the route: 1552 (m)\n",
            "Parcels Delivered: 15 (parcels)\n",
            "\n",
            "Route for driver 2:\n",
            " 0 Parcels(0) ->  12 Parcels(2) ->  11 Parcels(3) ->  15 Parcels(11) ->  13 Parcels(15) ->  0 Parcels(15)\n",
            "Distance of the route: 1552 (m)\n",
            "Parcels Delivered: 15 (parcels)\n",
            "\n",
            "Route for driver 3:\n",
            " 0 Parcels(0) ->  8 Parcels(8) ->  2 Parcels(9) ->  6 Parcels(13) ->  5 Parcels(15) ->  0 Parcels(15)\n",
            "Distance of the route: 1552 (m)\n",
            "Parcels Delivered: 15 (parcels)\n",
            "\n",
            "Total distance of all routes: 6,208 (m)\n",
            "Parcels Delivered: 60/60\n"
          ]
        }
      ]
    },
    {
      "cell_type": "code",
      "source": [
        ""
      ],
      "metadata": {
        "id": "q3ykH7dJLTW5"
      },
      "execution_count": null,
      "outputs": []
    }
  ]
}