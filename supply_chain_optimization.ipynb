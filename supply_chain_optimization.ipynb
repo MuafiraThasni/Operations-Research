{
  "nbformat": 4,
  "nbformat_minor": 0,
  "metadata": {
    "colab": {
      "name": "supply_chain_optimization.ipynb",
      "provenance": [],
      "authorship_tag": "ABX9TyPFCRK54P6qTaf1uh4JIlwk",
      "include_colab_link": true
    },
    "kernelspec": {
      "name": "python3",
      "display_name": "Python 3"
    },
    "language_info": {
      "name": "python"
    }
  },
  "cells": [
    {
      "cell_type": "markdown",
      "metadata": {
        "id": "view-in-github",
        "colab_type": "text"
      },
      "source": [
        "<a href=\"https://colab.research.google.com/github/MuafiraThasni/Operations-Research/blob/main/supply_chain_optimization.ipynb\" target=\"_parent\"><img src=\"https://colab.research.google.com/assets/colab-badge.svg\" alt=\"Open In Colab\"/></a>"
      ]
    },
    {
      "cell_type": "code",
      "source": [
        "pip install ortools"
      ],
      "metadata": {
        "colab": {
          "base_uri": "https://localhost:8080/",
          "height": 363
        },
        "id": "gqsvqoDCDGdk",
        "outputId": "2398c1b8-c810-445e-add1-49e0db4e0df5"
      },
      "execution_count": 2,
      "outputs": [
        {
          "output_type": "stream",
          "name": "stdout",
          "text": [
            "Collecting ortools\n",
            "  Downloading ortools-9.2.9972-cp37-cp37m-manylinux_2_17_x86_64.manylinux2014_x86_64.whl (14.6 MB)\n",
            "\u001b[K     |████████████████████████████████| 14.6 MB 5.1 MB/s \n",
            "\u001b[?25hCollecting protobuf>=3.19.1\n",
            "  Downloading protobuf-3.19.4-cp37-cp37m-manylinux_2_17_x86_64.manylinux2014_x86_64.whl (1.1 MB)\n",
            "\u001b[K     |████████████████████████████████| 1.1 MB 46.5 MB/s \n",
            "\u001b[?25hRequirement already satisfied: absl-py>=0.13 in /usr/local/lib/python3.7/dist-packages (from ortools) (1.0.0)\n",
            "Requirement already satisfied: numpy>=1.13.3 in /usr/local/lib/python3.7/dist-packages (from ortools) (1.19.5)\n",
            "Requirement already satisfied: six in /usr/local/lib/python3.7/dist-packages (from absl-py>=0.13->ortools) (1.15.0)\n",
            "Installing collected packages: protobuf, ortools\n",
            "  Attempting uninstall: protobuf\n",
            "    Found existing installation: protobuf 3.17.3\n",
            "    Uninstalling protobuf-3.17.3:\n",
            "      Successfully uninstalled protobuf-3.17.3\n",
            "Successfully installed ortools-9.2.9972 protobuf-3.19.4\n"
          ]
        },
        {
          "output_type": "display_data",
          "data": {
            "application/vnd.colab-display-data+json": {
              "pip_warning": {
                "packages": [
                  "google"
                ]
              }
            }
          },
          "metadata": {}
        }
      ]
    },
    {
      "cell_type": "code",
      "source": [
        "from ortools.linear_solver import pywraplp\n",
        "import pandas as pd"
      ],
      "metadata": {
        "id": "r9rVFPNUDPTE"
      },
      "execution_count": 3,
      "outputs": []
    },
    {
      "cell_type": "code",
      "source": [
        "sup_stock = pd.read_excel(\"/content/Data.xlsx\", sheet_name = \"Supplier stock\", index_col=0)\n",
        "raw_material_cost = pd.read_excel(\"/content/Data.xlsx\", sheet_name = \"Raw material costs\", index_col=0)\n",
        "raw_material_shipping = pd.read_excel(\"/content/Data.xlsx\", sheet_name = \"Raw material shipping\", index_col=0)\n",
        "production_req = pd.read_excel(\"/content/Data.xlsx\", sheet_name = \"Product requirements\", index_col=0)\n",
        "production_capacity = pd.read_excel(\"/content/Data.xlsx\", sheet_name = \"Production capacity\", index_col=0)\n",
        "customer_demand = pd.read_excel(\"/content/Data.xlsx\", sheet_name = \"Customer demand\", index_col=0)\n",
        "production_cost = pd.read_excel(\"/content/Data.xlsx\", sheet_name = \"Production cost\", index_col=0)\n",
        "shipping_costs = pd.read_excel(\"/content/Data.xlsx\", sheet_name = \"Shipping costs\", index_col=0)\n",
        "# Changing NaN values to 0 for easy computation\n",
        "customer_demand = customer_demand.fillna(0)\n",
        "production_req = production_req.fillna(0)\n",
        "sup_stock = sup_stock.fillna(0)\n",
        "production_capacity = production_capacity.fillna(0)\n",
        "raw_material_cost = raw_material_cost.fillna(0)\n",
        "production_cost = production_cost.fillna(0)\n"
      ],
      "metadata": {
        "id": "Bvli_dldDfg3"
      },
      "execution_count": 7,
      "outputs": []
    },
    {
      "cell_type": "code",
      "source": [
        "# Getting list of factories \n",
        "\n",
        "factories = list(raw_material_shipping.columns )\n",
        "print(\"Factories:\\n\",factories)\n",
        "# Getting list of materials\n",
        "materials = list(raw_material_cost.columns)\n",
        "print(\"Materials: \\n\",materials)\n",
        "# Getting list of suppliers\n",
        "suppliers = list(raw_material_cost.index)\n",
        "print(\"Suppliers: \\n\",suppliers)\n",
        "#Getting list of products\n",
        "products = list(production_req.index)\n",
        "print(\"Products: \\n\",products)\n",
        "#Getting list of customers\n",
        "customers = list(customer_demand.columns)\n",
        "print(\"Customers: \\n\",customers)"
      ],
      "metadata": {
        "colab": {
          "base_uri": "https://localhost:8080/"
        },
        "id": "YXlZAUhjD5Ly",
        "outputId": "d35eb309-4923-4355-d574-ffa6786c2b78"
      },
      "execution_count": 8,
      "outputs": [
        {
          "output_type": "stream",
          "name": "stdout",
          "text": [
            "Factories:\n",
            " ['Factory A', 'Factory B', 'Factory C']\n",
            "Materials: \n",
            " ['Material A', 'Material B', 'Material C', 'Material D']\n",
            "Suppliers: \n",
            " ['Supplier A', 'Supplier B', 'Supplier C', 'Supplier D', 'Supplier E']\n",
            "Products: \n",
            " ['Product A', 'Product B', 'Product C', 'Product D']\n",
            "Customers: \n",
            " ['Customer A', 'Customer B', 'Customer C', 'Customer D']\n"
          ]
        }
      ]
    },
    {
      "cell_type": "code",
      "source": [
        "# 2. Creating Decision Variables using OR Tools wrapper of the GLOP_LINEAR_PROGRAMMING solver.\n",
        "solver = pywraplp.Solver('LPWrapper', \n",
        "                             pywraplp.Solver.GLOP_LINEAR_PROGRAMMING)\n",
        "orders = {}\n",
        "for factory in factories:\n",
        "    for material in materials:\n",
        "        for supplier in suppliers:\n",
        "            orders[(factory, material, supplier)] = solver.NumVar(0, solver.infinity(), \n",
        "                                          factory+\"_\"+material+\"_\"+supplier)\n",
        "            \n",
        "production_volume = {}\n",
        "for factory in factories:\n",
        "    for product in products: \n",
        "        production_volume[(factory, product)] = solver.NumVar(0, solver.infinity()  , factory+\"_\"+product)\n",
        "        \n",
        "delivery = {}\n",
        "for factory in factories: \n",
        "    for customer in customers:\n",
        "        for product in products: \n",
        "            delivery[(factory, customer, product)] = solver.NumVar(0, solver.infinity(), factory+\"_\"+customer+\"_\"+product)"
      ],
      "metadata": {
        "id": "fjqMJD1RE71M"
      },
      "execution_count": 9,
      "outputs": []
    },
    {
      "cell_type": "code",
      "source": [
        "# C. Define and implement the constraints that ensure factories produce more \n",
        "#    than they ship to the customers\n",
        "\n",
        "for product in products: \n",
        "    for factory in factories:\n",
        "        c = solver.Constraint(0, solver.infinity())\n",
        "        c.SetCoefficient(production_volume[(factory, product)] , 1)\n",
        "        for customer in customers:             \n",
        "            c.SetCoefficient(delivery[(factory, customer, product)], -1)"
      ],
      "metadata": {
        "id": "W97PpYi9FCRr"
      },
      "execution_count": 10,
      "outputs": []
    },
    {
      "cell_type": "code",
      "source": [
        "## D. Define and implement the constraints that ensure that customer demand is met\n",
        "\n",
        "for customer in customers: \n",
        "    for product in products:\n",
        "        \n",
        "        c = solver.Constraint(int(customer_demand.loc[product][customer]),int(customer_demand.loc[product][customer]))\n",
        "        for factory in factories: \n",
        "            c.SetCoefficient(delivery[(factory,customer,product)], 1)"
      ],
      "metadata": {
        "id": "rM9EhDwOFGW3"
      },
      "execution_count": 11,
      "outputs": []
    },
    {
      "cell_type": "code",
      "source": [
        "## E. Define and implement the constraints that ensure that suppliers have all ordered items in stock    \n",
        "for supplier in suppliers: \n",
        "    for material in materials: \n",
        "        c = solver.Constraint(0, int(sup_stock.loc[supplier][material]))\n",
        "        for factory in factories: \n",
        "            c.SetCoefficient(orders[(factory, material, supplier)],1)"
      ],
      "metadata": {
        "id": "gBhBQRwGFJaQ"
      },
      "execution_count": 12,
      "outputs": []
    },
    {
      "cell_type": "code",
      "source": [
        "# F. Define and implement the constraints that ensure that factories order \n",
        "#    enough material to be able to manufacture all items\n",
        "for factory in factories:\n",
        "    for material in materials:\n",
        "        c = solver.Constraint(0,solver.infinity())\n",
        "        for supplier in suppliers:\n",
        "            c.SetCoefficient(orders[(factory, material, supplier)],1)\n",
        "            for product in products:\n",
        "                c.SetCoefficient(production_volume[(factory, product)], - production_req.loc[product][material])"
      ],
      "metadata": {
        "id": "AK-oiQraFPBh"
      },
      "execution_count": 13,
      "outputs": []
    },
    {
      "cell_type": "code",
      "source": [
        "### G.Define and implement the constraints that ensure that the manufacturing capacities are not exceeded\n",
        "for factory in factories: \n",
        "    for product in products: \n",
        "        c = solver.Constraint(0, int(production_capacity.loc[product][factory]))  \n",
        "        c.SetCoefficient(production_volume[(factory, product)],1)"
      ],
      "metadata": {
        "id": "X8Ce6aejFTc7"
      },
      "execution_count": 14,
      "outputs": []
    },
    {
      "cell_type": "code",
      "source": [
        "### H  Define and implement the objective function.\n",
        "cost = solver.Objective()\n",
        "# Material Costs  + shipping costs \n",
        "for factory in factories: \n",
        "    for supplier in suppliers:\n",
        "        for material in materials:\n",
        "            cost.SetCoefficient(orders[(factory, material, supplier)] , \n",
        "                                       raw_material_cost.loc[supplier][material] + raw_material_shipping.loc[supplier][factory])"
      ],
      "metadata": {
        "id": "R5ooTRpEFYOi"
      },
      "execution_count": 15,
      "outputs": []
    },
    {
      "cell_type": "code",
      "source": [
        "# production cost of each factory \n",
        "for factory in factories: \n",
        "    for product in products: \n",
        "        cost.SetCoefficient(production_volume[(factory, product)], int(production_cost.loc[product][factory]))\n",
        "\n",
        "# shipping cost to customers \n",
        "for factory in factories: \n",
        "    for customer in customers:\n",
        "        for product in products: \n",
        "            cost.SetCoefficient(delivery[(factory, customer, product)], int(shipping_costs.loc[factory][customer]))\n"
      ],
      "metadata": {
        "id": "3Q81Z-A4FbhS"
      },
      "execution_count": 16,
      "outputs": []
    },
    {
      "cell_type": "code",
      "source": [
        "# I. Solve the linear program and determine the optimal overall cost\n",
        "            \n",
        "cost.SetMinimization()\n",
        "status = solver.Solve()\n",
        "\n",
        "if status == solver.OPTIMAL:\n",
        "    print(\"Optimal Solution Found\")\n",
        "print(\"Optimal Overall Cost: \", solver.Objective().Value())\n",
        "\n",
        "# J. and K  Supplier Bill\n",
        "print(\"\\nSupplier Bill and order quantity\")\n",
        "print(\"****************************\")\n",
        "for factory in factories:\n",
        "    print(factory,\":\")\n",
        "    \n",
        "    for supplier in suppliers:\n",
        "        factory_cost = 0\n",
        "        print(\"  \",supplier,\":\")\n",
        "        for material in materials:\n",
        "            print(\"\\t\",material,\":\", orders[(factory, material, supplier)].solution_value())\n",
        "            \n",
        "            factory_cost += orders[(factory, material, supplier)].solution_value() * raw_material_cost.loc[supplier][material]\n",
        "            factory_cost += orders[(factory, material, supplier)].solution_value() * float(raw_material_shipping.loc[supplier][factory])\n",
        "        print(\"  \",supplier,\" Bill: \", factory_cost)"
      ],
      "metadata": {
        "colab": {
          "base_uri": "https://localhost:8080/"
        },
        "id": "YPW-KVhiFe_P",
        "outputId": "83ad2ff2-f4a5-4103-c1c8-b7b38e142b97"
      },
      "execution_count": 17,
      "outputs": [
        {
          "output_type": "stream",
          "name": "stdout",
          "text": [
            "Optimal Solution Found\n",
            "Optimal Overall Cost:  49315.0\n",
            "\n",
            "Supplier Bill and order quantity\n",
            "****************************\n",
            "Factory A :\n",
            "   Supplier A :\n",
            "\t Material A : 20.0\n",
            "\t Material B : 19.999999999999996\n",
            "\t Material C : 0.0\n",
            "\t Material D : 0.0\n",
            "   Supplier A  Bill:  2800.0\n",
            "   Supplier B :\n",
            "\t Material A : 19.000000000000004\n",
            "\t Material B : 4.000000000000001\n",
            "\t Material C : 0.0\n",
            "\t Material D : 0.0\n",
            "   Supplier B  Bill:  2155.0000000000005\n",
            "   Supplier C :\n",
            "\t Material A : 0.0\n",
            "\t Material B : 0.0\n",
            "\t Material C : 0.0\n",
            "\t Material D : 0.0\n",
            "   Supplier C  Bill:  0.0\n",
            "   Supplier D :\n",
            "\t Material A : 0.0\n",
            "\t Material B : 0.0\n",
            "\t Material C : 14.000000000000002\n",
            "\t Material D : 50.0\n",
            "   Supplier D  Bill:  6440.0\n",
            "   Supplier E :\n",
            "\t Material A : 0.0\n",
            "\t Material B : 0.0\n",
            "\t Material C : 0.0\n",
            "\t Material D : 0.0\n",
            "   Supplier E  Bill:  0.0\n",
            "Factory B :\n",
            "   Supplier A :\n",
            "\t Material A : 0.0\n",
            "\t Material B : 0.0\n",
            "\t Material C : 0.0\n",
            "\t Material D : 0.0\n",
            "   Supplier A  Bill:  0.0\n",
            "   Supplier B :\n",
            "\t Material A : 6.000000000000001\n",
            "\t Material B : 34.0\n",
            "\t Material C : 0.0\n",
            "\t Material D : 0.0\n",
            "   Supplier B  Bill:  3500.0\n",
            "   Supplier C :\n",
            "\t Material A : 0.0\n",
            "\t Material B : 0.0\n",
            "\t Material C : 31.999999999999996\n",
            "\t Material D : 4.999999999999996\n",
            "   Supplier C  Bill:  8549.999999999998\n",
            "   Supplier D :\n",
            "\t Material A : 0.0\n",
            "\t Material B : 0.0\n",
            "\t Material C : 5.999999999999997\n",
            "\t Material D : 0.0\n",
            "   Supplier D  Bill:  1379.9999999999995\n",
            "   Supplier E :\n",
            "\t Material A : 4.000000000000001\n",
            "\t Material B : 0.0\n",
            "\t Material C : 0.0\n",
            "\t Material D : 0.0\n",
            "   Supplier E  Bill:  260.00000000000006\n",
            "Factory C :\n",
            "   Supplier A :\n",
            "\t Material A : 0.0\n",
            "\t Material B : 0.0\n",
            "\t Material C : 0.0\n",
            "\t Material D : 0.0\n",
            "   Supplier A  Bill:  0.0\n",
            "   Supplier B :\n",
            "\t Material A : 0.0\n",
            "\t Material B : 6.000000000000001\n",
            "\t Material C : 0.0\n",
            "\t Material D : 0.0\n",
            "   Supplier B  Bill:  1590.0000000000002\n",
            "   Supplier C :\n",
            "\t Material A : 0.0\n",
            "\t Material B : 9.999999999999998\n",
            "\t Material C : 20.000000000000004\n",
            "\t Material D : 34.99999999999999\n",
            "   Supplier C  Bill:  12450.0\n",
            "   Supplier D :\n",
            "\t Material A : 0.0\n",
            "\t Material B : 0.0\n",
            "\t Material C : 0.0\n",
            "\t Material D : 0.0\n",
            "   Supplier D  Bill:  0.0\n",
            "   Supplier E :\n",
            "\t Material A : 25.000000000000007\n",
            "\t Material B : 0.0\n",
            "\t Material C : 0.0\n",
            "\t Material D : 40.0\n",
            "   Supplier E  Bill:  7325.0\n"
          ]
        }
      ]
    },
    {
      "cell_type": "code",
      "source": [
        ""
      ],
      "metadata": {
        "id": "KakBdjgkFqUl"
      },
      "execution_count": null,
      "outputs": []
    },
    {
      "cell_type": "code",
      "source": [
        "# L Manufacturing Cost\n",
        "print(\"Production Volume:\")\n",
        "print(\"****************************\")\n",
        "\n",
        "for factory in factories:\n",
        "    print(factory,\":\")\n",
        "    production_cost_total = 0\n",
        "    for product in products:\n",
        "        if production_volume[(factory, product)].solution_value() >0:\n",
        "            print(\"  \",product,\": \",production_volume[(factory, product)].solution_value())\n",
        "            production_cost_total += production_volume[(factory, product)].solution_value() * production_cost.loc[product][factory]\n",
        "    print(\"   Manufacturing cost: \", production_cost_total)"
      ],
      "metadata": {
        "colab": {
          "base_uri": "https://localhost:8080/"
        },
        "id": "8VnO8ps0FldL",
        "outputId": "e28094e7-dbde-4a1b-972c-d93746d195b9"
      },
      "execution_count": 18,
      "outputs": [
        {
          "output_type": "stream",
          "name": "stdout",
          "text": [
            "Production Volume:\n",
            "****************************\n",
            "Factory A :\n",
            "   Product A :  6.0\n",
            "   Product B :  1.000000000000001\n",
            "   Product D :  3.0\n",
            "   Manufacturing cost:  1010.0000000000001\n",
            "Factory B :\n",
            "   Product A :  2.0\n",
            "   Product B :  0.999999999999999\n",
            "   Product C :  4.0\n",
            "   Manufacturing cost:  429.9999999999999\n",
            "Factory C :\n",
            "   Product A :  2.000000000000001\n",
            "   Product D :  5.0\n",
            "   Manufacturing cost:  425.0000000000001\n"
          ]
        }
      ]
    },
    {
      "cell_type": "code",
      "source": [
        "# M Shipping Cost\n",
        "print(\"\\nShipping to Customer:\") \n",
        "print(\"****************************\")\n",
        "\n",
        "for customer in customers:   \n",
        "    shipping_cost = 0\n",
        "    print(customer)\n",
        "    for product in products:\n",
        "        print(\"  \", product)\n",
        "        for factory in factories: \n",
        "            print(\"\\t\",factory,\": \",delivery[(factory, customer, product)].solution_value())\n",
        "            shipping_cost += delivery[(factory, customer, product)].solution_value() * shipping_costs.loc[factory][customer]\n",
        "    print(\"   Shipping Cost: \", shipping_cost)"
      ],
      "metadata": {
        "colab": {
          "base_uri": "https://localhost:8080/"
        },
        "id": "xzZj8yZRFt6R",
        "outputId": "c39ac599-e5d4-4ba9-df91-d9e4935d6f76"
      },
      "execution_count": 19,
      "outputs": [
        {
          "output_type": "stream",
          "name": "stdout",
          "text": [
            "\n",
            "Shipping to Customer:\n",
            "****************************\n",
            "Customer A\n",
            "   Product A\n",
            "\t Factory A :  4.999999999999999\n",
            "\t Factory B :  0.0\n",
            "\t Factory C :  2.000000000000001\n",
            "   Product B\n",
            "\t Factory A :  0.0\n",
            "\t Factory B :  0.0\n",
            "\t Factory C :  0.0\n",
            "   Product C\n",
            "\t Factory A :  0.0\n",
            "\t Factory B :  0.0\n",
            "\t Factory C :  0.0\n",
            "   Product D\n",
            "\t Factory A :  0.0\n",
            "\t Factory B :  0.0\n",
            "\t Factory C :  1.0\n",
            "   Shipping Cost:  279.99999999999994\n",
            "Customer B\n",
            "   Product A\n",
            "\t Factory A :  1.0\n",
            "\t Factory B :  2.0\n",
            "\t Factory C :  0.0\n",
            "   Product B\n",
            "\t Factory A :  0.0\n",
            "\t Factory B :  0.0\n",
            "\t Factory C :  0.0\n",
            "   Product C\n",
            "\t Factory A :  0.0\n",
            "\t Factory B :  0.0\n",
            "\t Factory C :  0.0\n",
            "   Product D\n",
            "\t Factory A :  0.0\n",
            "\t Factory B :  0.0\n",
            "\t Factory C :  0.0\n",
            "   Shipping Cost:  110.0\n",
            "Customer C\n",
            "   Product A\n",
            "\t Factory A :  0.0\n",
            "\t Factory B :  0.0\n",
            "\t Factory C :  0.0\n",
            "   Product B\n",
            "\t Factory A :  1.000000000000001\n",
            "\t Factory B :  0.9999999999999989\n",
            "\t Factory C :  0.0\n",
            "   Product C\n",
            "\t Factory A :  0.0\n",
            "\t Factory B :  0.0\n",
            "\t Factory C :  0.0\n",
            "   Product D\n",
            "\t Factory A :  0.0\n",
            "\t Factory B :  0.0\n",
            "\t Factory C :  3.0\n",
            "   Shipping Cost:  370.0\n",
            "Customer D\n",
            "   Product A\n",
            "\t Factory A :  0.0\n",
            "\t Factory B :  0.0\n",
            "\t Factory C :  0.0\n",
            "   Product B\n",
            "\t Factory A :  0.0\n",
            "\t Factory B :  0.0\n",
            "\t Factory C :  0.0\n",
            "   Product C\n",
            "\t Factory A :  0.0\n",
            "\t Factory B :  4.0\n",
            "\t Factory C :  0.0\n",
            "   Product D\n",
            "\t Factory A :  3.0\n",
            "\t Factory B :  0.0\n",
            "\t Factory C :  1.0\n",
            "   Shipping Cost:  240.0\n"
          ]
        }
      ]
    },
    {
      "cell_type": "code",
      "source": [
        "#  Sub Task N   \n",
        "print(\"\\nMaterial Bifurcation and Cost per unit\")\n",
        "print(\"****************************\")\n",
        "#\n",
        "\n",
        "for customer in customers:\n",
        "    print(customer)\n",
        "    for product in products:\n",
        "        \n",
        "        unit_cost_per_product = 0\n",
        "        if int(customer_demand.loc[product][customer]) >0:\n",
        "            print(\"  \", product)\n",
        "            for factory in factories:\n",
        "                \n",
        "                if delivery[(factory, customer, product)].solution_value() >0:\n",
        "                    print(\"\\t\", factory, \": \")\n",
        "                    # Calculating the Shipping cost from factory to customer based on number of products\n",
        "                    shipping_cost = delivery[(factory, customer, product)].solution_value() * shipping_costs.loc[factory][customer]\n",
        "                    # Calculating the manufacturing cost \n",
        "                    man_cost = delivery[(factory, customer, product)].solution_value() * production_cost.loc[product][factory]\n",
        "                    unit_cost_per_product += shipping_cost\n",
        "                    unit_cost_per_product += man_cost\n",
        "                    material_cost_to_customer = 0\n",
        "                    for material in materials:\n",
        "                        material_units = 0\n",
        "                        material_units += delivery[(factory, customer, product)].solution_value() * production_req.loc[product][material]\n",
        "                        \n",
        "                        print(\"\\t  \",material,\": \", material_units)  \n",
        "                        #raw material cost\n",
        "                        material_cost = 0\n",
        "                        #raw material cost\n",
        "                        rshipping_cost = 0 \n",
        "                        material_count = 0\n",
        "                        for supplier in suppliers:\n",
        "                            material_cost +=  orders[(factory, material, supplier)].solution_value() * raw_material_cost.loc[supplier][material]\n",
        "                            rshipping_cost += orders[(factory, material, supplier)].solution_value() * raw_material_shipping.loc[supplier][factory]\n",
        "                            material_count += orders[(factory, material, supplier)].solution_value()\n",
        "                        material_cost_to_customer = ((material_cost + rshipping_cost)/material_count) * material_units\n",
        "                        unit_cost_per_product += material_cost_to_customer\n",
        "            print(\"\\t cost per unit : \", unit_cost_per_product/int(customer_demand.loc[product][customer]))\n",
        "\n"
      ],
      "metadata": {
        "colab": {
          "base_uri": "https://localhost:8080/"
        },
        "id": "WYDdtdrZFwOh",
        "outputId": "68ba7559-e26c-47c6-d7b3-5de315b44063"
      },
      "execution_count": 20,
      "outputs": [
        {
          "output_type": "stream",
          "name": "stdout",
          "text": [
            "\n",
            "Material Bifurcation and Cost per unit\n",
            "****************************\n",
            "Customer A\n",
            "   Product A\n",
            "\t Factory A : \n",
            "\t   Material A :  24.999999999999996\n",
            "\t   Material B :  14.999999999999996\n",
            "\t   Material C :  0.0\n",
            "\t   Material D :  0.0\n",
            "\t Factory C : \n",
            "\t   Material A :  10.000000000000004\n",
            "\t   Material B :  6.000000000000003\n",
            "\t   Material C :  0.0\n",
            "\t   Material D :  0.0\n",
            "\t cost per unit :  910.9752747252749\n",
            "   Product D\n",
            "\t Factory C : \n",
            "\t   Material A :  3.0\n",
            "\t   Material B :  2.0\n",
            "\t   Material C :  4.0\n",
            "\t   Material D :  15.0\n",
            "\t cost per unit :  3913.75\n",
            "Customer B\n",
            "   Product A\n",
            "\t Factory A : \n",
            "\t   Material A :  5.0\n",
            "\t   Material B :  3.0\n",
            "\t   Material C :  0.0\n",
            "\t   Material D :  0.0\n",
            "\t Factory B : \n",
            "\t   Material A :  10.0\n",
            "\t   Material B :  6.0\n",
            "\t   Material C :  0.0\n",
            "\t   Material D :  0.0\n",
            "\t cost per unit :  745.7051282051283\n",
            "Customer C\n",
            "   Product B\n",
            "\t Factory A : \n",
            "\t   Material A :  0.0\n",
            "\t   Material B :  0.0\n",
            "\t   Material C :  2.000000000000002\n",
            "\t   Material D :  5.000000000000005\n",
            "\t Factory B : \n",
            "\t   Material A :  0.0\n",
            "\t   Material B :  0.0\n",
            "\t   Material C :  1.9999999999999978\n",
            "\t   Material D :  4.999999999999995\n",
            "\t cost per unit :  1026.8421052631577\n",
            "   Product D\n",
            "\t Factory C : \n",
            "\t   Material A :  9.0\n",
            "\t   Material B :  6.0\n",
            "\t   Material C :  12.0\n",
            "\t   Material D :  45.0\n",
            "\t cost per unit :  4003.75\n",
            "Customer D\n",
            "   Product C\n",
            "\t Factory B : \n",
            "\t   Material A :  0.0\n",
            "\t   Material B :  28.0\n",
            "\t   Material C :  36.0\n",
            "\t   Material D :  0.0\n",
            "\t cost per unit :  2921.578947368421\n",
            "   Product D\n",
            "\t Factory A : \n",
            "\t   Material A :  9.0\n",
            "\t   Material B :  6.0\n",
            "\t   Material C :  12.0\n",
            "\t   Material D :  45.0\n",
            "\t Factory C : \n",
            "\t   Material A :  3.0\n",
            "\t   Material B :  2.0\n",
            "\t   Material C :  4.0\n",
            "\t   Material D :  15.0\n",
            "\t cost per unit :  2759.014423076923\n"
          ]
        }
      ]
    },
    {
      "cell_type": "code",
      "source": [
        ""
      ],
      "metadata": {
        "id": "x03WZFnJF3aa"
      },
      "execution_count": null,
      "outputs": []
    }
  ]
}